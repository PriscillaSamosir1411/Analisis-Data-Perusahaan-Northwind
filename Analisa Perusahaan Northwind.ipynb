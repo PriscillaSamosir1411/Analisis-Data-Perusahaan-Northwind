{
 "cells": [
  {
   "cell_type": "markdown",
   "id": "160812f5",
   "metadata": {},
   "source": [
    "# Tugas Pairing 2 Knowledge Discovery \n",
    "#### Priscilla Green Samosir - 212100332\n",
    "#### Rachel Clarissa Mehuli Nababan - 212100305"
   ]
  },
  {
   "cell_type": "code",
   "execution_count": 19,
   "id": "b8f8c72b",
   "metadata": {},
   "outputs": [
    {
     "name": "stdout",
     "output_type": "stream",
     "text": [
      "File baru 'Orders_Ship_Country_Products.xlsx' telah berhasil disimpan.\n"
     ]
    }
   ],
   "source": [
    "import pandas as pd\n",
    "\n",
    "# Baca file Excel Orders\n",
    "df_orders = pd.read_excel('Orders.xlsx')\n",
    "\n",
    "# Baca file Excel Order Details\n",
    "df_order_details = pd.read_excel('Order Details.xlsx')\n",
    "\n",
    "# Gabungkan kedua data berdasarkan kolom Order ID\n",
    "df_merged = pd.merge(df_orders, df_order_details, on='Order ID')\n",
    "\n",
    "# Pilih kolom yang diperlukan (Order ID, Ship Country, dan Product Name)\n",
    "df_selected_columns = df_merged[['Order ID', 'Ship Country', 'Product']]\n",
    "\n",
    "# Simpan hasil gabungan ke dalam file Excel baru\n",
    "df_selected_columns.to_excel('Orders_Ship_Country_Products.xlsx', index=False, encoding='utf-8')\n",
    "\n",
    "print(\"File baru 'Orders_Ship_Country_Products.xlsx' telah berhasil disimpan.\")\n"
   ]
  },
  {
   "cell_type": "markdown",
   "id": "fe95db9f",
   "metadata": {},
   "source": [
    "# Algoritma asosiasi "
   ]
  },
  {
   "cell_type": "markdown",
   "id": "bd9115d0",
   "metadata": {},
   "source": [
    "## 1A. Aturan Transaksi dari Negara-negara Eropa "
   ]
  },
  {
   "cell_type": "markdown",
   "id": "0bc58a89",
   "metadata": {},
   "source": [
    "Kami menggabungkan Order ID, Product dan Ship country ke dalam satu file excel baru dengan nama Order_Ship_Country_Product\n",
    "- Order ID: ID yang diberikan setiap kali negara-negara tersebut melakukan transaksi. \n",
    "- Ship Country: Nama-nama negara baik eropa dan non eropa yang melakukan transaksi. \n",
    "- Product Name: Nama-nama produk yang diberikan oleh negara-negara tersebut. \n"
   ]
  },
  {
   "cell_type": "code",
   "execution_count": 23,
   "id": "086cae92",
   "metadata": {},
   "outputs": [
    {
     "name": "stdout",
     "output_type": "stream",
     "text": [
      "             antecedents            consequents  antecedent support  \\\n",
      "0       (Tarte au sucre)              (Pavlova)            0.054118   \n",
      "1              (Pavlova)       (Tarte au sucre)            0.051765   \n",
      "2  (Sir Rodney's Scones)       (Sirop d'érable)            0.051765   \n",
      "3       (Sirop d'érable)  (Sir Rodney's Scones)            0.035294   \n",
      "\n",
      "   consequent support   support  confidence      lift  leverage  conviction  \\\n",
      "0            0.051765  0.011765    0.217391  4.199605  0.008963    1.211634   \n",
      "1            0.054118  0.011765    0.227273  4.199605  0.008963    1.224083   \n",
      "2            0.035294  0.011765    0.227273  6.439394  0.009938    1.248443   \n",
      "3            0.051765  0.011765    0.333333  6.439394  0.009938    1.422353   \n",
      "\n",
      "   zhangs_metric  \n",
      "0       0.805473  \n",
      "1       0.803474  \n",
      "2       0.890819  \n",
      "3       0.875610  \n"
     ]
    },
    {
     "name": "stderr",
     "output_type": "stream",
     "text": [
      "C:\\Users\\prisc\\anaconda3\\lib\\site-packages\\mlxtend\\frequent_patterns\\fpcommon.py:109: DeprecationWarning: DataFrames with non-bool types result in worse computationalperformance and their support might be discontinued in the future.Please use a DataFrame with bool type\n",
      "  warnings.warn(\n"
     ]
    }
   ],
   "source": [
    "import pandas as pd\n",
    "from mlxtend.frequent_patterns import apriori\n",
    "from mlxtend.frequent_patterns import association_rules\n",
    "\n",
    "# Baca file Excel Orders_Ship_Country_Products\n",
    "df = pd.read_excel('Orders_Ship_Country_Products.xlsx')\n",
    "\n",
    "# Filter data untuk hanya negara-negara Eropa\n",
    "df_europe = df[df['Ship Country'].isin(['Austria', 'Belgium', 'Bulgaria', 'Croatia', 'Cyprus', 'Czech Republic', 'Denmark', 'Estonia', 'Finland', 'France', 'Germany', 'Greece', 'Hungary', 'Ireland', 'Italy', 'Latvia', 'Lithuania', 'Luxembourg', 'Malta', 'Netherlands', 'Poland', 'Portugal', 'Romania', 'Slovakia', 'Slovenia', 'Spain', 'Sweden'])]\n",
    "\n",
    "# Ubah data menjadi format one-hot encoding\n",
    "basket = (df_europe.groupby(['Order ID', 'Product'])['Product']\n",
    "          .count().unstack().reset_index().fillna(0)\n",
    "          .set_index('Order ID'))\n",
    "\n",
    "# Ubah integer menjadi 1 dan 0\n",
    "basket_sets = basket.applymap(lambda x: 1 if x > 0 else 0)\n",
    "\n",
    "# Gunakan algoritma Apriori untuk menemukan asosiasi\n",
    "frequent_itemsets = apriori(basket_sets, min_support=0.01, use_colnames=True)\n",
    "\n",
    "# Temukan aturan asosiasi\n",
    "rules = association_rules(frequent_itemsets, metric=\"lift\", min_threshold=1)\n",
    "\n",
    "# Tampilkan aturan transaksi\n",
    "print(rules)"
   ]
  },
  {
   "cell_type": "markdown",
   "id": "400178f2",
   "metadata": {},
   "source": [
    "## Kesimpulan \n",
    "\n",
    "Dari hasil yang kami analisis maka didapatkan untuk produk yang dibeli oleh negara-negara eropa secara keseluruhan ialah jika membeli Tarte au sucre maka membeli Pavlova dan sebaliknya kemudian jika membeli Sir Rodney’s Scones maka membeli Sirop d’erable dan sebaliknya. \n"
   ]
  },
  {
   "cell_type": "markdown",
   "id": "666bfb44",
   "metadata": {},
   "source": [
    "## 1B. Aturan Transaksi dari Negara-negara Non-Eropa "
   ]
  },
  {
   "cell_type": "markdown",
   "id": "803cca5e",
   "metadata": {},
   "source": [
    "Kami menggabungkan Order ID, Product dan Ship country ke dalam satu file excel baru dengan nama Order_Ship_Country_Product\n",
    "- Order ID: ID yang diberikan setiap kali negara-negara tersebut melakukan transaksi. \n",
    "- Ship Country: Nama-nama negara baik eropa dan non eropa yang melakukan transaksi. \n",
    "- Product Name: Nama-nama produk yang diberikan oleh negara-negara tersebut. \n"
   ]
  },
  {
   "cell_type": "code",
   "execution_count": 6,
   "id": "137b4146",
   "metadata": {},
   "outputs": [
    {
     "name": "stdout",
     "output_type": "stream",
     "text": [
      "                           antecedents                         consequents  \\\n",
      "0                            (Geitost)                      (Alice Mutton)   \n",
      "1                       (Alice Mutton)                           (Geitost)   \n",
      "2                       (Alice Mutton)                    (Tarte au sucre)   \n",
      "3                     (Tarte au sucre)                      (Alice Mutton)   \n",
      "4                            (Pavlova)                 (Camembert Pierrot)   \n",
      "5                  (Camembert Pierrot)                           (Pavlova)   \n",
      "6                        (Fløtemysost)                              (Chai)   \n",
      "7                               (Chai)                       (Fløtemysost)   \n",
      "8   (Louisiana Fiery Hot Pepper Sauce)                       (Fløtemysost)   \n",
      "9                        (Fløtemysost)  (Louisiana Fiery Hot Pepper Sauce)   \n",
      "10                           (Pavlova)                 (Gorgonzola Telino)   \n",
      "11                 (Gorgonzola Telino)                           (Pavlova)   \n",
      "12                      (Pâté chinois)                     (Outback Lager)   \n",
      "13                     (Outback Lager)                      (Pâté chinois)   \n",
      "\n",
      "    antecedent support  consequent support  support  confidence      lift  \\\n",
      "0               0.0500              0.0500     0.01    0.200000  4.000000   \n",
      "1               0.0500              0.0500     0.01    0.200000  4.000000   \n",
      "2               0.0500              0.0600     0.01    0.200000  3.333333   \n",
      "3               0.0600              0.0500     0.01    0.166667  3.333333   \n",
      "4               0.0500              0.0675     0.01    0.200000  2.962963   \n",
      "5               0.0675              0.0500     0.01    0.148148  2.962963   \n",
      "6               0.0550              0.0525     0.01    0.181818  3.463203   \n",
      "7               0.0525              0.0550     0.01    0.190476  3.463203   \n",
      "8               0.0300              0.0550     0.01    0.333333  6.060606   \n",
      "9               0.0550              0.0300     0.01    0.181818  6.060606   \n",
      "10              0.0500              0.0625     0.01    0.200000  3.200000   \n",
      "11              0.0625              0.0500     0.01    0.160000  3.200000   \n",
      "12              0.0350              0.0550     0.01    0.285714  5.194805   \n",
      "13              0.0550              0.0350     0.01    0.181818  5.194805   \n",
      "\n",
      "    leverage  conviction  zhangs_metric  \n",
      "0   0.007500    1.187500       0.789474  \n",
      "1   0.007500    1.187500       0.789474  \n",
      "2   0.007000    1.175000       0.736842  \n",
      "3   0.007000    1.140000       0.744681  \n",
      "4   0.006625    1.165625       0.697368  \n",
      "5   0.006625    1.115217       0.710456  \n",
      "6   0.007113    1.158056       0.752646  \n",
      "7   0.007113    1.167353       0.750660  \n",
      "8   0.008350    1.417500       0.860825  \n",
      "9   0.008350    1.185556       0.883598  \n",
      "10  0.006875    1.171875       0.723684  \n",
      "11  0.006875    1.130952       0.733333  \n",
      "12  0.008075    1.323000       0.836788  \n",
      "13  0.008075    1.179444       0.854497  \n"
     ]
    },
    {
     "name": "stderr",
     "output_type": "stream",
     "text": [
      "C:\\Users\\prisc\\anaconda3\\lib\\site-packages\\mlxtend\\frequent_patterns\\fpcommon.py:109: DeprecationWarning: DataFrames with non-bool types result in worse computationalperformance and their support might be discontinued in the future.Please use a DataFrame with bool type\n",
      "  warnings.warn(\n"
     ]
    }
   ],
   "source": [
    "\n",
    "import pandas as pd\n",
    "from mlxtend.frequent_patterns import apriori\n",
    "from mlxtend.frequent_patterns import association_rules\n",
    "\n",
    "# Baca file Excel Orders_Ship_Country_Products\n",
    "df = pd.read_excel('Orders_Ship_Country_Products.xlsx')\n",
    "\n",
    "# Filter data untuk hanya negara-negara Eropa\n",
    "df_non_europe = df[df['Ship Country'].isin(['Brazil', 'Venezuela', 'Mexico', 'USA', 'UK', 'Ireland', 'Canada', 'Argentina'])]\n",
    "\n",
    "# Ubah data menjadi format one-hot encoding\n",
    "basket = (df_non_europe.groupby(['Order ID', 'Product'])['Product']\n",
    "          .count().unstack().reset_index().fillna(0)\n",
    "          .set_index('Order ID'))\n",
    "\n",
    "# Ubah integer menjadi 1 dan 0\n",
    "basket_sets = basket.applymap(lambda x: 1 if x > 0 else 0)\n",
    "\n",
    "# Gunakan algoritma Apriori untuk menemukan asosiasi\n",
    "frequent_itemsets = apriori(basket_sets, min_support=0.01, use_colnames=True)\n",
    "\n",
    "# Temukan aturan asosiasi\n",
    "rules = association_rules(frequent_itemsets, metric=\"lift\", min_threshold=1)\n",
    "\n",
    "# Tampilkan aturan transaksi\n",
    "print(rules)\n"
   ]
  },
  {
   "cell_type": "markdown",
   "id": "0a6b9efc",
   "metadata": {},
   "source": [
    "## Kesimpulan \n",
    "\n",
    "Dari hasil yang kami analisis maka didapatkan untuk produk yang dibeli oleh negara-negara non-eropa secara keseluruhan ialah jika membeli Geitost maka membeli Alice Mutton dan sebaliknya kemudian seterusnya seperti yang ditampilkan di atas. \n"
   ]
  },
  {
   "cell_type": "markdown",
   "id": "ddfea039",
   "metadata": {},
   "source": [
    "# Algoritma Kmeans"
   ]
  },
  {
   "cell_type": "markdown",
   "id": "f3873129",
   "metadata": {},
   "source": [
    "## Mengelompokan Produk restock dan tidak sekaligus menentukan prioritas restock"
   ]
  },
  {
   "cell_type": "markdown",
   "id": "31b7596a",
   "metadata": {},
   "source": [
    "Subset yang digunakan terdiri dari dua fitur, yaitu \"Units On Order\" yang merupakan jumlah barang yang dipesan oleh pelanggan dan \"Units In Stock\" yang merupakan jumlah barang yang masih tersedia di toko."
   ]
  },
  {
   "cell_type": "code",
   "execution_count": 45,
   "id": "99020ca7",
   "metadata": {},
   "outputs": [
    {
     "name": "stdout",
     "output_type": "stream",
     "text": [
      "\n",
      "Hasil performa analisis K-Means:\n",
      "Inertia: 23830.438735177864\n"
     ]
    },
    {
     "data": {
      "image/png": "[encoded data removed]",
      "text/plain": [
       "<Figure size 640x480 with 1 Axes>"
      ]
     },
     "metadata": {},
     "output_type": "display_data"
    }
   ],
   "source": [
    "import pandas as pd\n",
    "from sklearn.cluster import KMeans\n",
    "import matplotlib.pyplot as plt\n",
    "\n",
    "# Membaca dataset Products.xlsx\n",
    "products_data = pd.read_excel('Products.xlsx')\n",
    "\n",
    "# 1. Menyiapkan subset untuk analisis K-Means\n",
    "kmeans_subset = products_data[['Units On Order', 'Units In Stock']]  # Menggunakan nama kolom yang sesuai\n",
    "\n",
    "# 2. Melakukan analisis K-Means\n",
    "kmeans = KMeans(n_clusters=3)\n",
    "kmeans.fit(kmeans_subset)\n",
    "kmeans_labels = kmeans.labels_\n",
    "\n",
    "# 3. Hasil performa\n",
    "print(\"\\nHasil performa analisis K-Means:\")\n",
    "inertia = kmeans.inertia_\n",
    "print(\"Inertia:\", inertia)\n",
    "\n",
    "# 4. Visualisasi hasil analisis K-Means\n",
    "plt.scatter(kmeans_subset['Units On Order'], kmeans_subset['Units In Stock'], c=kmeans_labels, cmap='viridis')\n",
    "centers = kmeans.cluster_centers_\n",
    "plt.scatter(centers[:, 0], centers[:, 1], c='red', marker='x')\n",
    "plt.xlabel('Units On Order')\n",
    "plt.ylabel('Units In Stock')\n",
    "plt.title('K-Means Clustering')\n",
    "plt.show()\n",
    "\n"
   ]
  },
  {
   "cell_type": "markdown",
   "id": "9e221e82",
   "metadata": {},
   "source": [
    "## Kesimpulan \n",
    "\n",
    "Dari analisis tersebut, dapat disimpulkan bahwa ada hubungan saling memengaruhi antara jumlah restock produk dengan jumlah order dan stok produk. Produk dengan tingkat order yang tinggi cenderung membutuhkan restock yang lebih sering, dan sebaliknya. Informasi ini dapat digunakan untuk menentukan prioritas restock dan mengelola stok dengan lebih efisien."
   ]
  },
  {
   "cell_type": "markdown",
   "id": "47370c36",
   "metadata": {},
   "source": [
    "# Algoritma Neural Network"
   ]
  },
  {
   "cell_type": "markdown",
   "id": "a03a9276",
   "metadata": {},
   "source": [
    "## Memprediksi jumlah reorder "
   ]
  },
  {
   "cell_type": "markdown",
   "id": "6efcdaac",
   "metadata": {},
   "source": [
    "Subset yang digunakan terdiri dari dua fitur, yaitu \"Units On Order\" yang merupakan jumlah barang yang dipesan oleh pelanggan dan \"Units In Stock\" yang merupakan jumlah barang yang masih tersedia di toko."
   ]
  },
  {
   "cell_type": "code",
   "execution_count": 44,
   "id": "0c6abcf2",
   "metadata": {},
   "outputs": [
    {
     "name": "stdout",
     "output_type": "stream",
     "text": [
      "Epoch [100/1000], Training Loss: 237.7722, Test Loss: 169.6194\n",
      "Epoch [200/1000], Training Loss: 170.2729, Test Loss: 112.4794\n",
      "Epoch [300/1000], Training Loss: 118.0844, Test Loss: 75.4825\n",
      "Epoch [400/1000], Training Loss: 103.3340, Test Loss: 71.2098\n",
      "Epoch [500/1000], Training Loss: 100.5322, Test Loss: 70.9566\n",
      "Epoch [600/1000], Training Loss: 98.5731, Test Loss: 68.9098\n",
      "Epoch [700/1000], Training Loss: 96.7509, Test Loss: 66.6791\n",
      "Epoch [800/1000], Training Loss: 95.0935, Test Loss: 64.6691\n",
      "Epoch [900/1000], Training Loss: 93.6819, Test Loss: 63.0790\n",
      "Epoch [1000/1000], Training Loss: 92.5685, Test Loss: 61.9564\n"
     ]
    },
    {
     "data": {
      "image/png": "[encoded data removed]",
      "text/plain": [
       "<Figure size 640x480 with 1 Axes>"
      ]
     },
     "metadata": {},
     "output_type": "display_data"
    },
    {
     "name": "stdout",
     "output_type": "stream",
     "text": [
      "Prediksi Reorder Level untuk Data Uji:\n",
      "tensor([[0.0684],\n",
      "        [0.1913],\n",
      "        [0.1479],\n",
      "        [0.1105],\n",
      "        [0.1725],\n",
      "        [0.2111],\n",
      "        [0.1249],\n",
      "        [0.0905],\n",
      "        [0.0894],\n",
      "        [0.0684],\n",
      "        [0.0961],\n",
      "        [0.2057],\n",
      "        [0.0950],\n",
      "        [0.0939],\n",
      "        [0.1548],\n",
      "        [0.1902]])\n"
     ]
    }
   ],
   "source": [
    "import pandas as pd \n",
    "import numpy as np\n",
    "import matplotlib.pyplot as plt\n",
    "import torch\n",
    "import torch.nn as nn\n",
    "import torch.optim as optim\n",
    "from sklearn.model_selection import train_test_split\n",
    "from sklearn.preprocessing import MinMaxScaler\n",
    "from sklearn.metrics import mean_squared_error\n",
    "\n",
    "# Membaca dataset Products.xlsx \n",
    "products_data = pd.read_excel('Products.xlsx')\n",
    "\n",
    "# Memilih fitur yang digunakan untuk prediksi\n",
    "X = products_data[['Units On Order', 'Units In Stock']].values\n",
    "y = products_data['Reorder Level'].values\n",
    "\n",
    "# Normalisasi fitur\n",
    "scaler = MinMaxScaler()\n",
    "X_scaled = scaler.fit_transform(X)\n",
    "\n",
    "# Split data menjadi data latih dan data uji\n",
    "X_train, X_test, y_train, y_test = train_test_split(X_scaled, y, test_size=0.2, random_state=42)\n",
    "\n",
    "# Konversi data ke tensor PyTorch\n",
    "X_train_tensor = torch.tensor(X_train, dtype=torch.float32)\n",
    "X_test_tensor = torch.tensor(X_test, dtype=torch.float32)\n",
    "y_train_tensor = torch.tensor(y_train, dtype=torch.float32)\n",
    "y_test_tensor = torch.tensor(y_test, dtype=torch.float32)\n",
    "\n",
    "# Bangun Model Neural Network\n",
    "class SimpleNN(nn.Module):\n",
    "    def __init__(self):\n",
    "        super(SimpleNN, self).__init__()\n",
    "        self.fc1 = nn.Linear(2, 64)\n",
    "        self.fc2 = nn.Linear(64, 1)\n",
    "    \n",
    "    def forward(self, x):\n",
    "        x = torch.relu(self.fc1(x))\n",
    "        x = self.fc2(x)\n",
    "        return x\n",
    "\n",
    "model = SimpleNN()\n",
    "\n",
    "# Fungsi loss dan optimizer\n",
    "criterion = nn.MSELoss()\n",
    "optimizer = optim.Adam(model.parameters(), lr=0.001)\n",
    "\n",
    "# Latih model\n",
    "num_epochs = 1000\n",
    "train_losses = []\n",
    "test_losses = []\n",
    "\n",
    "for epoch in range(num_epochs):\n",
    "    optimizer.zero_grad()\n",
    "    outputs = model(X_train_tensor)\n",
    "    loss = criterion(outputs, y_train_tensor.unsqueeze(1))\n",
    "    loss.backward()\n",
    "    optimizer.step()\n",
    "    \n",
    "    train_losses.append(loss.item())\n",
    "    \n",
    "    # Evaluasi pada data uji\n",
    "    with torch.no_grad():\n",
    "        test_outputs = model(X_test_tensor)\n",
    "        test_loss = criterion(test_outputs, y_test_tensor.unsqueeze(1))\n",
    "        test_losses.append(test_loss.item())\n",
    "    \n",
    "    if (epoch+1) % 100 == 0:\n",
    "        print(f'Epoch [{epoch+1}/{num_epochs}], Training Loss: {loss.item():.4f}, Test Loss: {test_loss.item():.4f}')\n",
    "\n",
    "# Plot loss\n",
    "plt.plot(train_losses, label='Training Loss')\n",
    "plt.plot(test_losses, label='Test Loss')\n",
    "plt.xlabel('Epochs')\n",
    "plt.ylabel('Loss')\n",
    "plt.title('Training and Test Loss')\n",
    "plt.legend()\n",
    "plt.show()\n",
    "\n",
    "# Menggunakan model untuk membuat prediksi pada data uji\n",
    "with torch.no_grad():\n",
    "    test_outputs = model(X_test_tensor)\n",
    "    \n",
    "# Mengonversi hasil prediksi kembali ke dalam skala semula (jika perlu)\n",
    "predicted_reorder_level = test_outputs * scaler.scale_[0] + scaler.min_[0]\n",
    "\n",
    "print(\"Prediksi Reorder Level untuk Data Uji:\")\n",
    "print(predicted_reorder_level)\n"
   ]
  },
  {
   "cell_type": "markdown",
   "id": "b4fd0a13",
   "metadata": {},
   "source": [
    "Dari hasil pelatihan model Neural Network, terlihat bahwa terjadi penurunan nilai loss (kerugian) pada data latih dan data uji seiring dengan peningkatan jumlah epoch. Hal ini menunjukkan bahwa model kita berhasil belajar dari data dan mampu mengurangi kesalahan prediksi. Selain itu, prediksi reorder level untuk data uji memberikan gambaran tentang kinerja model dalam memprediksi kebutuhan reorder untuk produk-produk tertentu. Dengan demikian, dapat disimpulkan bahwa model Neural Network yang telah dibangun mampu memberikan prediksi yang cukup akurat terkait dengan tingkat persediaan dan kebutuhan reorder produk. Hal ini dapat membantu toko Northwind dalam mengelola stok barang secara lebih efisien dan efektif."
   ]
  }
 ],
 "metadata": {
  "kernelspec": {
   "display_name": "Python 3 (ipykernel)",
   "language": "python",
   "name": "python3"
  },
  "language_info": {
   "codemirror_mode": {
    "name": "ipython",
    "version": 3
   },
   "file_extension": ".py",
   "mimetype": "text/x-python",
   "name": "python",
   "nbconvert_exporter": "python",
   "pygments_lexer": "ipython3",
   "version": "3.9.13"
  }
 },
 "nbformat": 4,
 "nbformat_minor": 5
}
